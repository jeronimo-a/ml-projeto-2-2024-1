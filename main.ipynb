{
 "cells": [
  {
   "cell_type": "code",
   "execution_count": 1,
   "id": "initial_id",
   "metadata": {
    "collapsed": true,
    "ExecuteTime": {
     "end_time": "2024-05-19T20:18:51.309780Z",
     "start_time": "2024-05-19T20:18:45.705286Z"
    }
   },
   "outputs": [
    {
     "name": "stderr",
     "output_type": "stream",
     "text": [
      "/tmp/ipykernel_85725/3538350959.py:1: DeprecationWarning: \n",
      "Pyarrow will become a required dependency of pandas in the next major release of pandas (pandas 3.0),\n",
      "(to allow more performant data types, such as the Arrow string type, and better interoperability with other libraries)\n",
      "but was not found to be installed on your system.\n",
      "If this would cause problems for you,\n",
      "please provide us feedback at https://github.com/pandas-dev/pandas/issues/54466\n",
      "        \n",
      "  import pandas as pd\n"
     ]
    }
   ],
   "source": [
    "import pandas as pd\n",
    "import numpy as np\n",
    "import matplotlib.pyplot as plt"
   ]
  },
  {
   "cell_type": "code",
   "outputs": [
    {
     "data": {
      "text/plain": "       symbol        date      open      high       low     close    volume\n0         AAL  2014-01-02   25.0700   25.8200   25.0600   25.3600   8998943\n1        AAPL  2014-01-02   79.3828   79.5756   78.8601   79.0185  58791957\n2         AAP  2014-01-02  110.3600  111.8800  109.2900  109.7400    542711\n3        ABBV  2014-01-02   52.1200   52.3300   51.5200   51.9800   4569061\n4         ABC  2014-01-02   70.1100   70.2300   69.4800   69.8900   1148391\n...       ...         ...       ...       ...       ...       ...       ...\n497467    XYL  2017-12-29   68.5300   68.8000   67.9200   68.2000   1046677\n497468    YUM  2017-12-29   82.6400   82.7100   81.5900   81.6100   1347613\n497469    ZBH  2017-12-29  121.7500  121.9500  120.6200  120.6700   1023624\n497470   ZION  2017-12-29   51.2800   51.5500   50.8100   50.8300   1261916\n497471    ZTS  2017-12-29   72.5500   72.7600   72.0400   72.0400   1704122\n\n[497472 rows x 7 columns]",
      "text/html": "<div>\n<style scoped>\n    .dataframe tbody tr th:only-of-type {\n        vertical-align: middle;\n    }\n\n    .dataframe tbody tr th {\n        vertical-align: top;\n    }\n\n    .dataframe thead th {\n        text-align: right;\n    }\n</style>\n<table border=\"1\" class=\"dataframe\">\n  <thead>\n    <tr style=\"text-align: right;\">\n      <th></th>\n      <th>symbol</th>\n      <th>date</th>\n      <th>open</th>\n      <th>high</th>\n      <th>low</th>\n      <th>close</th>\n      <th>volume</th>\n    </tr>\n  </thead>\n  <tbody>\n    <tr>\n      <th>0</th>\n      <td>AAL</td>\n      <td>2014-01-02</td>\n      <td>25.0700</td>\n      <td>25.8200</td>\n      <td>25.0600</td>\n      <td>25.3600</td>\n      <td>8998943</td>\n    </tr>\n    <tr>\n      <th>1</th>\n      <td>AAPL</td>\n      <td>2014-01-02</td>\n      <td>79.3828</td>\n      <td>79.5756</td>\n      <td>78.8601</td>\n      <td>79.0185</td>\n      <td>58791957</td>\n    </tr>\n    <tr>\n      <th>2</th>\n      <td>AAP</td>\n      <td>2014-01-02</td>\n      <td>110.3600</td>\n      <td>111.8800</td>\n      <td>109.2900</td>\n      <td>109.7400</td>\n      <td>542711</td>\n    </tr>\n    <tr>\n      <th>3</th>\n      <td>ABBV</td>\n      <td>2014-01-02</td>\n      <td>52.1200</td>\n      <td>52.3300</td>\n      <td>51.5200</td>\n      <td>51.9800</td>\n      <td>4569061</td>\n    </tr>\n    <tr>\n      <th>4</th>\n      <td>ABC</td>\n      <td>2014-01-02</td>\n      <td>70.1100</td>\n      <td>70.2300</td>\n      <td>69.4800</td>\n      <td>69.8900</td>\n      <td>1148391</td>\n    </tr>\n    <tr>\n      <th>...</th>\n      <td>...</td>\n      <td>...</td>\n      <td>...</td>\n      <td>...</td>\n      <td>...</td>\n      <td>...</td>\n      <td>...</td>\n    </tr>\n    <tr>\n      <th>497467</th>\n      <td>XYL</td>\n      <td>2017-12-29</td>\n      <td>68.5300</td>\n      <td>68.8000</td>\n      <td>67.9200</td>\n      <td>68.2000</td>\n      <td>1046677</td>\n    </tr>\n    <tr>\n      <th>497468</th>\n      <td>YUM</td>\n      <td>2017-12-29</td>\n      <td>82.6400</td>\n      <td>82.7100</td>\n      <td>81.5900</td>\n      <td>81.6100</td>\n      <td>1347613</td>\n    </tr>\n    <tr>\n      <th>497469</th>\n      <td>ZBH</td>\n      <td>2017-12-29</td>\n      <td>121.7500</td>\n      <td>121.9500</td>\n      <td>120.6200</td>\n      <td>120.6700</td>\n      <td>1023624</td>\n    </tr>\n    <tr>\n      <th>497470</th>\n      <td>ZION</td>\n      <td>2017-12-29</td>\n      <td>51.2800</td>\n      <td>51.5500</td>\n      <td>50.8100</td>\n      <td>50.8300</td>\n      <td>1261916</td>\n    </tr>\n    <tr>\n      <th>497471</th>\n      <td>ZTS</td>\n      <td>2017-12-29</td>\n      <td>72.5500</td>\n      <td>72.7600</td>\n      <td>72.0400</td>\n      <td>72.0400</td>\n      <td>1704122</td>\n    </tr>\n  </tbody>\n</table>\n<p>497472 rows × 7 columns</p>\n</div>"
     },
     "execution_count": 2,
     "metadata": {},
     "output_type": "execute_result"
    }
   ],
   "source": [
    "data = pd.read_csv('data.csv')\n",
    "data"
   ],
   "metadata": {
    "collapsed": false,
    "ExecuteTime": {
     "end_time": "2024-05-19T20:18:51.807674Z",
     "start_time": "2024-05-19T20:18:51.311617Z"
    }
   },
   "id": "8f95c3961315052f",
   "execution_count": 2
  },
  {
   "cell_type": "code",
   "outputs": [],
   "source": [],
   "metadata": {
    "collapsed": false
   },
   "id": "5763fc6d7da6dc14"
  }
 ],
 "metadata": {
  "kernelspec": {
   "display_name": "Python 3",
   "language": "python",
   "name": "python3"
  },
  "language_info": {
   "codemirror_mode": {
    "name": "ipython",
    "version": 2
   },
   "file_extension": ".py",
   "mimetype": "text/x-python",
   "name": "python",
   "nbconvert_exporter": "python",
   "pygments_lexer": "ipython2",
   "version": "2.7.6"
  }
 },
 "nbformat": 4,
 "nbformat_minor": 5
}
